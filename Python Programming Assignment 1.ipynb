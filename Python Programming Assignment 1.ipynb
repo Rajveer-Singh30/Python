{
 "cells": [
  {
   "cell_type": "code",
   "execution_count": null,
   "id": "bda70ddd",
   "metadata": {},
   "outputs": [],
   "source": [
    "1. Write a Python program to print \"Hello Python\"\n",
    "2. Write a Python program to do arithmetical operations addition and division\n",
    "3. Write a Python program to find the area of a triangle\n",
    "4. Write a Python program to swap two variables\n",
    "5. Write a Python program to generate a random number"
   ]
  },
  {
   "cell_type": "code",
   "execution_count": 1,
   "id": "a6ed3c05",
   "metadata": {},
   "outputs": [
    {
     "name": "stdout",
     "output_type": "stream",
     "text": [
      "Hello Python\n"
     ]
    }
   ],
   "source": [
    "print(\"Hello Python\")"
   ]
  },
  {
   "cell_type": "code",
   "execution_count": 3,
   "id": "9e6a83f3",
   "metadata": {},
   "outputs": [
    {
     "name": "stdout",
     "output_type": "stream",
     "text": [
      "enrer first number 4\n",
      "enter second number 5\n",
      "addition =  9 div =  0.8\n"
     ]
    }
   ],
   "source": [
    "a = int(input(\"enrer first number \"))\n",
    "b = int(input(\"enter second number \"))\n",
    "\n",
    "add = a + b\n",
    "div = a/b\n",
    "\n",
    "print(\"addition = \", add , \"div = \", div)"
   ]
  },
  {
   "cell_type": "code",
   "execution_count": 4,
   "id": "78b48323",
   "metadata": {},
   "outputs": [
    {
     "name": "stdout",
     "output_type": "stream",
     "text": [
      "enter base of the triangle 4\n",
      "enter height of a triangle 2\n",
      "area of triangle =  4.0\n"
     ]
    }
   ],
   "source": [
    "base = float(input(\"enter base of the triangle \"))\n",
    "height = float(input(\"enter height of a triangle \"))\n",
    "\n",
    "area = 0.5 * base * height\n",
    "print(\"area of triangle = \", area)"
   ]
  },
  {
   "cell_type": "code",
   "execution_count": 8,
   "id": "d805e574",
   "metadata": {},
   "outputs": [
    {
     "name": "stdout",
     "output_type": "stream",
     "text": [
      "ente first number 3\n",
      "ente second number 4\n",
      "number 1 =  4 number 2 =  3\n"
     ]
    }
   ],
   "source": [
    "a = int(input(\"ente first number \"))\n",
    "b = int(input(\"ente second number \"))\n",
    "\n",
    "\n",
    "a, b = b, a\n",
    "print(\"number 1 = \", a , \"number 2 = \", b)\n",
    "\n",
    "\n"
   ]
  },
  {
   "cell_type": "code",
   "execution_count": 5,
   "id": "1353044a",
   "metadata": {},
   "outputs": [
    {
     "name": "stdout",
     "output_type": "stream",
     "text": [
      "860\n"
     ]
    }
   ],
   "source": [
    "import random\n",
    "print(random.randint(1,1000))"
   ]
  },
  {
   "cell_type": "code",
   "execution_count": null,
   "id": "732926b3",
   "metadata": {},
   "outputs": [],
   "source": []
  }
 ],
 "metadata": {
  "kernelspec": {
   "display_name": "Python 3 (ipykernel)",
   "language": "python",
   "name": "python3"
  },
  "language_info": {
   "codemirror_mode": {
    "name": "ipython",
    "version": 3
   },
   "file_extension": ".py",
   "mimetype": "text/x-python",
   "name": "python",
   "nbconvert_exporter": "python",
   "pygments_lexer": "ipython3",
   "version": "3.9.12"
  }
 },
 "nbformat": 4,
 "nbformat_minor": 5
}
